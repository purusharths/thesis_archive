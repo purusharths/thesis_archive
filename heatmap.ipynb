{
 "cells": [
  {
   "cell_type": "code",
   "execution_count": 18,
   "id": "2fab02f4",
   "metadata": {},
   "outputs": [],
   "source": [
    "import matplotlib.pyplot as plt\n",
    "import numpy as np\n",
    "\n",
    "\n",
    "plt.rcParams.update({\n",
    "    \"text.usetex\": True,\n",
    "    \"font.size\": 14,\n",
    "    \"font.family\": \"serif\",\n",
    "})"
   ]
  },
  {
   "cell_type": "code",
   "execution_count": 1,
   "id": "bfe78977",
   "metadata": {},
   "outputs": [
    {
     "data": {
      "image/png": "[encoded data removed]",
      "text/plain": [
       "<Figure size 600x100 with 1 Axes>"
      ]
     },
     "metadata": {},
     "output_type": "display_data"
    }
   ],
   "source": [
    "import matplotlib.pyplot as plt\n",
    "import numpy as np\n",
    "\n",
    "# Create a figure and axis\n",
    "fig, ax = plt.subplots(figsize=(6, 1))\n",
    "\n",
    "# Create a colormap and normalize it to the range [0, 1]\n",
    "cmap = plt.cm.get_cmap('viridis')\n",
    "norm = plt.Normalize(0, 1)\n",
    "\n",
    "# Plot the colorbar\n",
    "cb = plt.colorbar(plt.cm.ScalarMappable(cmap=cmap, norm=norm), cax=ax, orientation='horizontal')\n",
    "\n",
    "# Set colorbar labels and ticks\n",
    "cb.set_label('Values between 0 and 1')\n",
    "cb.set_ticks(np.linspace(0, 1, 11))\n",
    "cb.set_ticklabels(np.round(np.linspace(0, 1, 11), 1))\n",
    "\n",
    "# Show the plot\n",
    "plt.show()\n"
   ]
  },
  {
   "cell_type": "code",
   "execution_count": 19,
   "id": "5153125e",
   "metadata": {},
   "outputs": [
    {
     "data": {
      "image/png": "[encoded data removed]",
      "text/plain": [
       "<Figure size 600x50 with 1 Axes>"
      ]
     },
     "metadata": {},
     "output_type": "display_data"
    }
   ],
   "source": [
    "import matplotlib.pyplot as plt\n",
    "import numpy as np\n",
    "\n",
    "# Create a figure and axis\n",
    "fig, ax = plt.subplots(figsize=(6, 0.5))  # Adjust the height for a thinner colorbar\n",
    "\n",
    "# Create a colormap and normalize it to the range [0, 1]\n",
    "cmap = plt.cm.get_cmap('turbo')\n",
    "norm = plt.Normalize(0, 1)\n",
    "\n",
    "# Plot the colorbar\n",
    "cb = plt.colorbar(plt.cm.ScalarMappable(cmap=cmap, norm=norm), cax=ax, orientation='horizontal')\n",
    "\n",
    "# Set colorbar labels and ticks\n",
    "cb.set_label('Values between 0 and 1')\n",
    "cb.set_ticks(np.linspace(0, 1, 11))\n",
    "cb.set_ticklabels(np.round(np.linspace(0, 1, 11), 1))\n",
    "\n",
    "# Show the plot\n",
    "plt.show()"
   ]
  },
  {
   "cell_type": "code",
   "execution_count": 23,
   "id": "cdba7d79",
   "metadata": {},
   "outputs": [
    {
     "name": "stderr",
     "output_type": "stream",
     "text": [
      "/tmp/ipykernel_625688/438888306.py:24: UserWarning: Tight layout not applied. The bottom and top margins cannot be made large enough to accommodate all axes decorations.\n",
      "  plt.tight_layout()\n"
     ]
    },
    {
     "data": {
      "image/png": "[encoded data removed]",
      "text/plain": [
       "<Figure size 600x25 with 1 Axes>"
      ]
     },
     "metadata": {},
     "output_type": "display_data"
    }
   ],
   "source": [
    "import matplotlib.pyplot as plt\n",
    "import numpy as np\n",
    "\n",
    "# Create a figure and axis\n",
    "fig, ax = plt.subplots(figsize=(6, 0.25))  # Adjust the height for a thinner colorbar\n",
    "\n",
    "# Create a colormap and normalize it to the range [0, 1]\n",
    "cmap = plt.cm.get_cmap('turbo')\n",
    "norm = plt.Normalize(0, 1)\n",
    "\n",
    "# Plot the colorbar\n",
    "cb = plt.colorbar(plt.cm.ScalarMappable(cmap=cmap, norm=norm), cax=ax, orientation='horizontal')\n",
    "\n",
    "# Set colorbar labels and ticks\n",
    "# cb.set_label('Values between 0 and 1')\n",
    "cb.set_ticks(np.linspace(0, 1, 11))\n",
    "cb.set_ticklabels(np.round(np.linspace(0, 1, 11), 1))\n",
    "\n",
    "custom_ticks = [0.2, 0.4, 0.6, 0.8]\n",
    "cb.set_ticks(custom_ticks)\n",
    "cb.set_ticklabels(custom_ticks)\n",
    "\n",
    "# Show the plot\n",
    "plt.tight_layout()\n",
    "plt.savefig(\"colorbar.pdf\", bbox_inches=\"tight\")\n",
    "\n",
    "plt.show()\n",
    "\n"
   ]
  },
  {
   "cell_type": "code",
   "execution_count": 24,
   "id": "cbc49e24",
   "metadata": {},
   "outputs": [
    {
     "data": {
      "text/plain": [
       "'/home/purusharth/thesis_plots'"
      ]
     },
     "execution_count": 24,
     "metadata": {},
     "output_type": "execute_result"
    }
   ],
   "source": [
    "pwd"
   ]
  },
  {
   "cell_type": "code",
   "execution_count": null,
   "id": "378f5d90",
   "metadata": {},
   "outputs": [],
   "source": []
  }
 ],
 "metadata": {
  "kernelspec": {
   "display_name": "Python 3 (ipykernel)",
   "language": "python",
   "name": "python3"
  },
  "language_info": {
   "codemirror_mode": {
    "name": "ipython",
    "version": 3
   },
   "file_extension": ".py",
   "mimetype": "text/x-python",
   "name": "python",
   "nbconvert_exporter": "python",
   "pygments_lexer": "ipython3",
   "version": "3.10.12"
  }
 },
 "nbformat": 4,
 "nbformat_minor": 5
}
