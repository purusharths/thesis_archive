{
 "cells": [
  {
   "cell_type": "code",
   "execution_count": 3,
   "id": "5a00d296",
   "metadata": {},
   "outputs": [
    {
     "data": {
      "image/png": "[encoded data removed]",
      "text/plain": [
       "<Figure size 1000x200 with 2 Axes>"
      ]
     },
     "metadata": {},
     "output_type": "display_data"
    }
   ],
   "source": [
    "import matplotlib.pyplot as plt\n",
    "from matplotlib import cm\n",
    "import numpy as np\n",
    "\n",
    "# Create a figure and axis\n",
    "fig, ax = plt.subplots(figsize=(10, 2))\n",
    "\n",
    "# Set the colormap to Turbo\n",
    "cmap = cm.get_cmap('turbo')\n",
    "\n",
    "# Create a ScalarMappable to map values to colors\n",
    "norm = plt.Normalize(0, 1)\n",
    "sm = plt.cm.ScalarMappable(cmap=cmap, norm=norm)\n",
    "sm.set_array([])\n",
    "\n",
    "# Create a horizontal color bar\n",
    "cbar = plt.colorbar(sm, orientation='horizontal', ax=ax)\n",
    "\n",
    "# Set the color bar ticks\n",
    "cbar.set_ticks([0, 0.25, 0.5, 0.75, 1])\n",
    "cbar.set_ticklabels(['0', '0.25', '0.5', '0.75', '1'])\n",
    "\n",
    "# Set color bar label\n",
    "cbar.set_label('Color Bar')\n",
    "\n",
    "# Hide the axes\n",
    "ax.axis('off')\n",
    "\n",
    "# Show the plot\n",
    "plt.tight_layout()\n",
    "plt.show()"
   ]
  },
  {
   "cell_type": "code",
   "execution_count": 12,
   "id": "75c0f66b",
   "metadata": {},
   "outputs": [
    {
     "name": "stderr",
     "output_type": "stream",
     "text": [
      "/tmp/ipykernel_585443/704279431.py:29: UserWarning: Tight layout not applied. The bottom and top margins cannot be made large enough to accommodate all axes decorations.\n",
      "  plt.tight_layout()\n"
     ]
    },
    {
     "data": {
      "image/png": "[encoded data removed]",
      "text/plain": [
       "<Figure size 1000x50 with 2 Axes>"
      ]
     },
     "metadata": {},
     "output_type": "display_data"
    }
   ],
   "source": [
    "import matplotlib.pyplot as plt\n",
    "from matplotlib import cm\n",
    "import numpy as np\n",
    "\n",
    "# Create a figure and axis with thin margins\n",
    "fig, ax = plt.subplots(figsize=(10, 0.5))  # Adjust the height in figsize\n",
    "fig.subplots_adjust(left=0.05, right=0.95, top=0.9, bottom=0.1)\n",
    "\n",
    "# Set the colormap to Turbo\n",
    "cmap = cm.get_cmap('turbo')\n",
    "\n",
    "# Create a ScalarMappable to map values to colors\n",
    "norm = plt.Normalize(0, 1)\n",
    "sm = plt.cm.ScalarMappable(cmap=cmap, norm=norm)\n",
    "sm.set_array([])\n",
    "\n",
    "# Create a longer horizontal color bar\n",
    "cbar = plt.colorbar(sm, orientation='horizontal', ax=ax, shrink=0.8)\n",
    "\n",
    "# Set the color bar ticks\n",
    "cbar.set_ticks([0, 0.25, 0.5, 0.75, 1])\n",
    "cbar.set_ticklabels(['0', '0.25', '0.5', '0.75', '1'])\n",
    "\n",
    "# Set color bar label\n",
    "# cbar.set_label('Color Bar')\n",
    "\n",
    "# Hide the axes\n",
    "ax.axis('off')\n",
    "plt.tight_layout()\n",
    "plt.savefig(\"colorbar-0_1.png\", dpi=500, bbox_inches='tight', pad_inches=0)\n",
    "# Show the plot\n",
    "plt.show()"
   ]
  },
  {
   "cell_type": "code",
   "execution_count": 13,
   "id": "3fa98eff",
   "metadata": {},
   "outputs": [
    {
     "data": {
      "image/png": "[encoded data removed]",
      "text/plain": [
       "<Figure size 1000x75 with 2 Axes>"
      ]
     },
     "metadata": {},
     "output_type": "display_data"
    }
   ],
   "source": [
    "import matplotlib.pyplot as plt\n",
    "from matplotlib import cm\n",
    "import numpy as np\n",
    "\n",
    "# Create a figure and axis with adjusted margins and size\n",
    "fig, ax = plt.subplots(figsize=(10, 0.75))\n",
    "fig.subplots_adjust(left=0.1, right=0.9, top=0.8, bottom=0.2)\n",
    "\n",
    "# Set the colormap to Turbo\n",
    "cmap = cm.get_cmap('turbo')\n",
    "\n",
    "# Create a ScalarMappable to map values to colors\n",
    "norm = plt.Normalize(0, 1)\n",
    "sm = plt.cm.ScalarMappable(cmap=cmap, norm=norm)\n",
    "sm.set_array([])\n",
    "\n",
    "# Create a longer horizontal color bar\n",
    "cbar = plt.colorbar(sm, orientation='horizontal', ax=ax, shrink=0.8)\n",
    "\n",
    "# Set the color bar ticks\n",
    "cbar.set_ticks([0, 0.25, 0.5, 0.75, 1])\n",
    "cbar.set_ticklabels(['0', '0.25', '0.5', '0.75', '1'])\n",
    "\n",
    "# Set color bar label\n",
    "cbar.set_label('Color Bar')\n",
    "\n",
    "# Hide the axes\n",
    "ax.axis('off')\n",
    "\n",
    "# Show the plot\n",
    "plt.show()"
   ]
  },
  {
   "cell_type": "code",
   "execution_count": null,
   "id": "b3e33d9f",
   "metadata": {},
   "outputs": [],
   "source": []
  }
 ],
 "metadata": {
  "kernelspec": {
   "display_name": "Python 3 (ipykernel)",
   "language": "python",
   "name": "python3"
  },
  "language_info": {
   "codemirror_mode": {
    "name": "ipython",
    "version": 3
   },
   "file_extension": ".py",
   "mimetype": "text/x-python",
   "name": "python",
   "nbconvert_exporter": "python",
   "pygments_lexer": "ipython3",
   "version": "3.10.12"
  }
 },
 "nbformat": 4,
 "nbformat_minor": 5
}
