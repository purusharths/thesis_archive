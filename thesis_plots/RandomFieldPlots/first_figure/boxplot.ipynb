{
 "cells": [
  {
   "cell_type": "code",
   "execution_count": 4,
   "id": "dcdd3527",
   "metadata": {},
   "outputs": [],
   "source": [
    "from matplotlib import rcParams\n",
    "# Set the font to TeX Gyre Pagella\n",
    "rcParams['font.family'] = 'Computer Modern Roman'"
   ]
  },
  {
   "cell_type": "code",
   "execution_count": 2,
   "id": "812a3094",
   "metadata": {},
   "outputs": [
    {
     "ename": "NameError",
     "evalue": "name 'crypt_data_list' is not defined",
     "output_type": "error",
     "traceback": [
      "\u001b[0;31m---------------------------------------------------------------------------\u001b[0m",
      "\u001b[0;31mNameError\u001b[0m                                 Traceback (most recent call last)",
      "Cell \u001b[0;32mIn[2], line 3\u001b[0m\n\u001b[1;32m      1\u001b[0m \u001b[38;5;28;01mfrom\u001b[39;00m \u001b[38;5;21;01mscipy\u001b[39;00m\u001b[38;5;21;01m.\u001b[39;00m\u001b[38;5;21;01mstats\u001b[39;00m \u001b[38;5;28;01mimport\u001b[39;00m ttest_ind\n\u001b[0;32m----> 3\u001b[0m c2coarse \u001b[38;5;241m=\u001b[39m \u001b[43mcrypt_data_list\u001b[49m[\u001b[38;5;241m2\u001b[39m][\u001b[38;5;241m0\u001b[39m][\u001b[38;5;124m'\u001b[39m\u001b[38;5;124mcrypt2/coarse_RF-crypt2_test6_mat1.npy\u001b[39m\u001b[38;5;124m'\u001b[39m]\n\u001b[1;32m      4\u001b[0m c2smooth \u001b[38;5;241m=\u001b[39m crypt_data_list[\u001b[38;5;241m2\u001b[39m][\u001b[38;5;241m1\u001b[39m][\u001b[38;5;124m'\u001b[39m\u001b[38;5;124mcrypt2/smooth_RF-crypt2_test6_mat1.npy\u001b[39m\u001b[38;5;124m'\u001b[39m]\n\u001b[1;32m      5\u001b[0m c2para \u001b[38;5;241m=\u001b[39m crypt_data_list[\u001b[38;5;241m2\u001b[39m][\u001b[38;5;241m2\u001b[39m][\u001b[38;5;124m'\u001b[39m\u001b[38;5;124mcrypt2/para_RF-crypt2_test6_mat1.npy\u001b[39m\u001b[38;5;124m'\u001b[39m]\n",
      "\u001b[0;31mNameError\u001b[0m: name 'crypt_data_list' is not defined"
     ]
    }
   ],
   "source": [
    "from scipy.stats import ttest_ind\n",
    "\n",
    "c2coarse = crypt_data_list[2][0]['crypt2/coarse_RF-crypt2_test6_mat1.npy']\n",
    "c2smooth = crypt_data_list[2][1]['crypt2/smooth_RF-crypt2_test6_mat1.npy']\n",
    "c2para = crypt_data_list[2][2]['crypt2/para_RF-crypt2_test6_mat1.npy']\n",
    "\n",
    "\n",
    "c1  = [crypt_data_list[1][0]['crypt1/coarse_RF-crypt1_test1_mat2.npy'], \n",
    "      crypt_data_list[1][1]['crypt1/smooth_RF-crypt1_test1_mat2.npy'],\n",
    "      crypt_data_list[1][2]['crypt1/para_RF-crypt1_test1_mat2.npy']]\n",
    "# Example: t-test between Coarse and Smooth\n",
    "c0  = [crypt_data_list[0][0]['crypt0/coarse_RF-crypt0_test2_mat2.npy'], \n",
    "      crypt_data_list[0][1]['crypt0/smooth_RF-crypt0_test2_mat2.npy'],\n",
    "      crypt_data_list[0][2]['crypt0/para_RF-crypt0_test2_mat2.npy']]\n",
    "\n",
    "\n",
    "\n",
    "t_stat, p_value = ttest_ind(c2coarse, c2smooth)#, axis=1)\n"
   ]
  },
  {
   "cell_type": "code",
   "execution_count": 3,
   "id": "71c1499f",
   "metadata": {},
   "outputs": [
    {
     "ename": "NameError",
     "evalue": "name 'np' is not defined",
     "output_type": "error",
     "traceback": [
      "\u001b[0;31m---------------------------------------------------------------------------\u001b[0m",
      "\u001b[0;31mNameError\u001b[0m                                 Traceback (most recent call last)",
      "Cell \u001b[0;32mIn[3], line 1\u001b[0m\n\u001b[0;32m----> 1\u001b[0m data_set1 \u001b[38;5;241m=\u001b[39m [\u001b[43mnp\u001b[49m\u001b[38;5;241m.\u001b[39mload(\u001b[38;5;124m\"\u001b[39m\u001b[38;5;124mic_epithelium/crypt0_test2_epi.npy\u001b[39m\u001b[38;5;124m\"\u001b[39m), c0[\u001b[38;5;241m0\u001b[39m][:\u001b[38;5;241m50\u001b[39m], c0[\u001b[38;5;241m1\u001b[39m][:\u001b[38;5;241m50\u001b[39m], c0[\u001b[38;5;241m2\u001b[39m][:\u001b[38;5;241m50\u001b[39m]]\n\u001b[1;32m      2\u001b[0m data_set2 \u001b[38;5;241m=\u001b[39m [np\u001b[38;5;241m.\u001b[39mload(\u001b[38;5;124m\"\u001b[39m\u001b[38;5;124mic_epithelium/crypt1_test1_epi.npy\u001b[39m\u001b[38;5;124m\"\u001b[39m), c1[\u001b[38;5;241m0\u001b[39m][:\u001b[38;5;241m50\u001b[39m], c1[\u001b[38;5;241m1\u001b[39m][:\u001b[38;5;241m50\u001b[39m], c1[\u001b[38;5;241m2\u001b[39m][:\u001b[38;5;241m50\u001b[39m]]\n\u001b[1;32m      3\u001b[0m data_set3 \u001b[38;5;241m=\u001b[39m [np\u001b[38;5;241m.\u001b[39mload(\u001b[38;5;124m\"\u001b[39m\u001b[38;5;124mic_epithelium/crypt2_test6_epi.npy\u001b[39m\u001b[38;5;124m\"\u001b[39m), c2coarse[:\u001b[38;5;241m50\u001b[39m], c2smooth[:\u001b[38;5;241m50\u001b[39m], c2para[:\u001b[38;5;241m50\u001b[39m]]\n",
      "\u001b[0;31mNameError\u001b[0m: name 'np' is not defined"
     ]
    }
   ],
   "source": [
    "data_set1 = [np.load(\"ic_epithelium/crypt0_test2_epi.npy\"), c0[0][:50], c0[1][:50], c0[2][:50]]\n",
    "data_set2 = [np.load(\"ic_epithelium/crypt1_test1_epi.npy\"), c1[0][:50], c1[1][:50], c1[2][:50]]\n",
    "data_set3 = [np.load(\"ic_epithelium/crypt2_test6_epi.npy\"), c2coarse[:50], c2smooth[:50], c2para[:50]]\n",
    "\n",
    "\n",
    "# Create a box plot using seaborn\n",
    "df_set1 = pd.DataFrame({\n",
    "    'Original': data_set1[0],\n",
    "    'Random Field 1': data_set1[1],\n",
    "    'Random Field 2': data_set1[2],\n",
    "    'Random Field 3': data_set1[3]\n",
    "})\n",
    "\n",
    "df_set2 = pd.DataFrame({\n",
    "    'Original': data_set2[0],\n",
    "    'Random Field 1': data_set2[1],\n",
    "    'Random Field 2': data_set2[2],\n",
    "    'Random Field 3': data_set2[3]\n",
    "})\n",
    "\n",
    "df_set3 = pd.DataFrame({\n",
    "    'Original': data_set3[0],\n",
    "    'Random Field 1': data_set3[1],\n",
    "    'Random Field 2': data_set3[2],\n",
    "    'Random Field 3': data_set3[3]\n",
    "})\n",
    "df_all = pd.concat([df_set1, df_set2, df_set3], ignore_index=True)\n",
    "\n",
    "# Create a box plot using seaborn\n",
    "sns.set(style=\"whitegrid\")\n",
    "fig, axes = plt.subplots(1, 3, figsize=(15, 5))\n",
    "fig.autofmt_xdate(rotation=45)\n",
    "# Plot for df_set1\n",
    "sns.boxplot(data=df_set1, color='skyblue', width=0.3, ax=axes[0])\n",
    "axes[0].set_title('Crypt Geometry 1')\n",
    "# axes[0].set_xlabel('Values')\n",
    "axes[0].set_ylabel('Probability')\n",
    "axes[0].grid(True)\n",
    "# Plot for df_set2\n",
    "sns.boxplot(data=df_set2, color='lightgreen', width=0.3, ax=axes[1])\n",
    "axes[1].set_title('Crypt Geometry 2')\n",
    "# axes[1].set_xlabel('Values')\n",
    "axes[1].set_ylabel('Probability')\n",
    "axes[1].grid(True)\n",
    "\n",
    "# Plot for df_all\n",
    "sns.boxplot(data=df_set3, color='lightcoral', width=0.3, ax=axes[2])\n",
    "axes[2].set_title('Crypt Geometry 3')\n",
    "# axes[2].set_xlabel('Values')\n",
    "axes[2].set_ylabel('Probability')\n",
    "plt.grid(True)\n",
    "\n",
    "\n",
    "# Adjust layout\n",
    "# plt.tight_layout()\n",
    "plt.savefig(\"allboxplot.pdf\", bbox_inches='tight', pad_inches=0)\n",
    "# Show the plot\n",
    "plt.show()"
   ]
  },
  {
   "cell_type": "code",
   "execution_count": null,
   "id": "74f772ef",
   "metadata": {},
   "outputs": [],
   "source": []
  }
 ],
 "metadata": {
  "kernelspec": {
   "display_name": "Python 3 (ipykernel)",
   "language": "python",
   "name": "python3"
  },
  "language_info": {
   "codemirror_mode": {
    "name": "ipython",
    "version": 3
   },
   "file_extension": ".py",
   "mimetype": "text/x-python",
   "name": "python",
   "nbconvert_exporter": "python",
   "pygments_lexer": "ipython3",
   "version": "3.10.12"
  }
 },
 "nbformat": 4,
 "nbformat_minor": 5
}
