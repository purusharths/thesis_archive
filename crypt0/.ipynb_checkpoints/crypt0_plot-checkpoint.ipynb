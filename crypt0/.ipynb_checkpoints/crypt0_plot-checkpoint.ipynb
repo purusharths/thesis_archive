{
 "cells": [
  {
   "cell_type": "code",
   "execution_count": 2,
   "id": "d030c5fd",
   "metadata": {},
   "outputs": [],
   "source": [
    "import matplotlib.pyplot as plt\n",
    "import numpy as np\n",
    "import pandas as pd\n",
    "import seaborn as sns"
   ]
  },
  {
   "cell_type": "code",
   "execution_count": 3,
   "id": "93a71e79",
   "metadata": {},
   "outputs": [],
   "source": [
    "def plot_lines(file_list, x_label_ = \"\", y_label_ =\"\", title=\"\", savefig_name=\"default.pdf\"):\n",
    "    for array in file_list:\n",
    "        plt.plot(array, '--')\n",
    "    plt.ylim(-0.05,1.05)\n",
    "    #     ax = plt.gca() # gets the active axis\n",
    "    #     ax.set_aspect(1)\n",
    "    plt.xlabel(x_label_)\n",
    "    plt.ylabel(y_label_)\n",
    "    plt.title(title)\n",
    "    plt.savefig(savefig_name)\n",
    "    plt.clf()"
   ]
  },
  {
   "cell_type": "code",
   "execution_count": 4,
   "id": "d62a0168",
   "metadata": {},
   "outputs": [
    {
     "ename": "FileNotFoundError",
     "evalue": "[Errno 2] No such file or directory: 'overall/crypt0_test0_overall.npy'",
     "output_type": "error",
     "traceback": [
      "\u001b[0;31m---------------------------------------------------------------------------\u001b[0m",
      "\u001b[0;31mFileNotFoundError\u001b[0m                         Traceback (most recent call last)",
      "Cell \u001b[0;32mIn[4], line 11\u001b[0m\n\u001b[1;32m      9\u001b[0m name \u001b[38;5;241m=\u001b[39m [\u001b[38;5;124mf\u001b[39m\u001b[38;5;124m\"\u001b[39m\u001b[38;5;124mcrypt\u001b[39m\u001b[38;5;132;01m{\u001b[39;00mCryptNum\u001b[38;5;132;01m}\u001b[39;00m\u001b[38;5;124m_test\u001b[39m\u001b[38;5;124m\"\u001b[39m, \u001b[38;5;124mf\u001b[39m\u001b[38;5;124m\"\u001b[39m\u001b[38;5;124mcrypt\u001b[39m\u001b[38;5;132;01m{\u001b[39;00mCryptNum\u001b[38;5;132;01m}\u001b[39;00m\u001b[38;5;124m_test\u001b[39m\u001b[38;5;124m\"\u001b[39m, \u001b[38;5;124mf\u001b[39m\u001b[38;5;124m\"\u001b[39m\u001b[38;5;124mcrypt\u001b[39m\u001b[38;5;132;01m{\u001b[39;00mCryptNum\u001b[38;5;132;01m}\u001b[39;00m\u001b[38;5;124m_test\u001b[39m\u001b[38;5;124m\"\u001b[39m, \u001b[38;5;124mf\u001b[39m\u001b[38;5;124m\"\u001b[39m\u001b[38;5;124mcrypt\u001b[39m\u001b[38;5;132;01m{\u001b[39;00mCryptNum\u001b[38;5;132;01m}\u001b[39;00m\u001b[38;5;124m_test\u001b[39m\u001b[38;5;124m\"\u001b[39m]\n\u001b[1;32m     10\u001b[0m loadtype \u001b[38;5;241m=\u001b[39m [\u001b[38;5;124m\"\u001b[39m\u001b[38;5;124moverall\u001b[39m\u001b[38;5;124m\"\u001b[39m, \u001b[38;5;124m\"\u001b[39m\u001b[38;5;124mmat1\u001b[39m\u001b[38;5;124m\"\u001b[39m, \u001b[38;5;124m\"\u001b[39m\u001b[38;5;124mmat2\u001b[39m\u001b[38;5;124m\"\u001b[39m, \u001b[38;5;124m\"\u001b[39m\u001b[38;5;124mmat3\u001b[39m\u001b[38;5;124m\"\u001b[39m]\n\u001b[0;32m---> 11\u001b[0m OVERALL  \u001b[38;5;241m=\u001b[39m \u001b[43m[\u001b[49m\u001b[43mnp\u001b[49m\u001b[38;5;241;43m.\u001b[39;49m\u001b[43mload\u001b[49m\u001b[43m(\u001b[49m\u001b[38;5;124;43mf\u001b[39;49m\u001b[38;5;124;43m\"\u001b[39;49m\u001b[38;5;124;43moverall/\u001b[39;49m\u001b[38;5;132;43;01m{\u001b[39;49;00m\u001b[43mname\u001b[49m\u001b[43m[\u001b[49m\u001b[38;5;241;43m0\u001b[39;49m\u001b[43m]\u001b[49m\u001b[38;5;132;43;01m}\u001b[39;49;00m\u001b[38;5;132;43;01m{\u001b[39;49;00m\u001b[43mi\u001b[49m\u001b[38;5;132;43;01m}\u001b[39;49;00m\u001b[38;5;124;43m_\u001b[39;49m\u001b[38;5;132;43;01m{\u001b[39;49;00m\u001b[43mloadtype\u001b[49m\u001b[43m[\u001b[49m\u001b[38;5;241;43m0\u001b[39;49m\u001b[43m]\u001b[49m\u001b[38;5;132;43;01m}\u001b[39;49;00m\u001b[38;5;124;43m.npy\u001b[39;49m\u001b[38;5;124;43m\"\u001b[39;49m\u001b[43m)\u001b[49m\u001b[43m \u001b[49m\u001b[38;5;28;43;01mfor\u001b[39;49;00m\u001b[43m \u001b[49m\u001b[43mi\u001b[49m\u001b[43m \u001b[49m\u001b[38;5;129;43;01min\u001b[39;49;00m\u001b[43m \u001b[49m\u001b[38;5;28;43mrange\u001b[39;49m\u001b[43m(\u001b[49m\u001b[43mN\u001b[49m\u001b[43m)\u001b[49m\u001b[43m]\u001b[49m\n\u001b[1;32m     12\u001b[0m MAT1     \u001b[38;5;241m=\u001b[39m [np\u001b[38;5;241m.\u001b[39mload(\u001b[38;5;124mf\u001b[39m\u001b[38;5;124m\"\u001b[39m\u001b[38;5;124mmat1/\u001b[39m\u001b[38;5;132;01m{\u001b[39;00mname[\u001b[38;5;241m1\u001b[39m]\u001b[38;5;132;01m}\u001b[39;00m\u001b[38;5;132;01m{\u001b[39;00mi\u001b[38;5;132;01m}\u001b[39;00m\u001b[38;5;124m_\u001b[39m\u001b[38;5;132;01m{\u001b[39;00mloadtype[\u001b[38;5;241m1\u001b[39m]\u001b[38;5;132;01m}\u001b[39;00m\u001b[38;5;124m.npy\u001b[39m\u001b[38;5;124m\"\u001b[39m) \u001b[38;5;28;01mfor\u001b[39;00m i \u001b[38;5;129;01min\u001b[39;00m \u001b[38;5;28mrange\u001b[39m(N)]\n\u001b[1;32m     13\u001b[0m MAT2     \u001b[38;5;241m=\u001b[39m [np\u001b[38;5;241m.\u001b[39mload(\u001b[38;5;124mf\u001b[39m\u001b[38;5;124m\"\u001b[39m\u001b[38;5;124mmat2/\u001b[39m\u001b[38;5;132;01m{\u001b[39;00mname[\u001b[38;5;241m2\u001b[39m]\u001b[38;5;132;01m}\u001b[39;00m\u001b[38;5;132;01m{\u001b[39;00mi\u001b[38;5;132;01m}\u001b[39;00m\u001b[38;5;124m_\u001b[39m\u001b[38;5;132;01m{\u001b[39;00mloadtype[\u001b[38;5;241m2\u001b[39m]\u001b[38;5;132;01m}\u001b[39;00m\u001b[38;5;124m.npy\u001b[39m\u001b[38;5;124m\"\u001b[39m) \u001b[38;5;28;01mfor\u001b[39;00m i \u001b[38;5;129;01min\u001b[39;00m \u001b[38;5;28mrange\u001b[39m(N)]\n",
      "Cell \u001b[0;32mIn[4], line 11\u001b[0m, in \u001b[0;36m<listcomp>\u001b[0;34m(.0)\u001b[0m\n\u001b[1;32m      9\u001b[0m name \u001b[38;5;241m=\u001b[39m [\u001b[38;5;124mf\u001b[39m\u001b[38;5;124m\"\u001b[39m\u001b[38;5;124mcrypt\u001b[39m\u001b[38;5;132;01m{\u001b[39;00mCryptNum\u001b[38;5;132;01m}\u001b[39;00m\u001b[38;5;124m_test\u001b[39m\u001b[38;5;124m\"\u001b[39m, \u001b[38;5;124mf\u001b[39m\u001b[38;5;124m\"\u001b[39m\u001b[38;5;124mcrypt\u001b[39m\u001b[38;5;132;01m{\u001b[39;00mCryptNum\u001b[38;5;132;01m}\u001b[39;00m\u001b[38;5;124m_test\u001b[39m\u001b[38;5;124m\"\u001b[39m, \u001b[38;5;124mf\u001b[39m\u001b[38;5;124m\"\u001b[39m\u001b[38;5;124mcrypt\u001b[39m\u001b[38;5;132;01m{\u001b[39;00mCryptNum\u001b[38;5;132;01m}\u001b[39;00m\u001b[38;5;124m_test\u001b[39m\u001b[38;5;124m\"\u001b[39m, \u001b[38;5;124mf\u001b[39m\u001b[38;5;124m\"\u001b[39m\u001b[38;5;124mcrypt\u001b[39m\u001b[38;5;132;01m{\u001b[39;00mCryptNum\u001b[38;5;132;01m}\u001b[39;00m\u001b[38;5;124m_test\u001b[39m\u001b[38;5;124m\"\u001b[39m]\n\u001b[1;32m     10\u001b[0m loadtype \u001b[38;5;241m=\u001b[39m [\u001b[38;5;124m\"\u001b[39m\u001b[38;5;124moverall\u001b[39m\u001b[38;5;124m\"\u001b[39m, \u001b[38;5;124m\"\u001b[39m\u001b[38;5;124mmat1\u001b[39m\u001b[38;5;124m\"\u001b[39m, \u001b[38;5;124m\"\u001b[39m\u001b[38;5;124mmat2\u001b[39m\u001b[38;5;124m\"\u001b[39m, \u001b[38;5;124m\"\u001b[39m\u001b[38;5;124mmat3\u001b[39m\u001b[38;5;124m\"\u001b[39m]\n\u001b[0;32m---> 11\u001b[0m OVERALL  \u001b[38;5;241m=\u001b[39m [\u001b[43mnp\u001b[49m\u001b[38;5;241;43m.\u001b[39;49m\u001b[43mload\u001b[49m\u001b[43m(\u001b[49m\u001b[38;5;124;43mf\u001b[39;49m\u001b[38;5;124;43m\"\u001b[39;49m\u001b[38;5;124;43moverall/\u001b[39;49m\u001b[38;5;132;43;01m{\u001b[39;49;00m\u001b[43mname\u001b[49m\u001b[43m[\u001b[49m\u001b[38;5;241;43m0\u001b[39;49m\u001b[43m]\u001b[49m\u001b[38;5;132;43;01m}\u001b[39;49;00m\u001b[38;5;132;43;01m{\u001b[39;49;00m\u001b[43mi\u001b[49m\u001b[38;5;132;43;01m}\u001b[39;49;00m\u001b[38;5;124;43m_\u001b[39;49m\u001b[38;5;132;43;01m{\u001b[39;49;00m\u001b[43mloadtype\u001b[49m\u001b[43m[\u001b[49m\u001b[38;5;241;43m0\u001b[39;49m\u001b[43m]\u001b[49m\u001b[38;5;132;43;01m}\u001b[39;49;00m\u001b[38;5;124;43m.npy\u001b[39;49m\u001b[38;5;124;43m\"\u001b[39;49m\u001b[43m)\u001b[49m \u001b[38;5;28;01mfor\u001b[39;00m i \u001b[38;5;129;01min\u001b[39;00m \u001b[38;5;28mrange\u001b[39m(N)]\n\u001b[1;32m     12\u001b[0m MAT1     \u001b[38;5;241m=\u001b[39m [np\u001b[38;5;241m.\u001b[39mload(\u001b[38;5;124mf\u001b[39m\u001b[38;5;124m\"\u001b[39m\u001b[38;5;124mmat1/\u001b[39m\u001b[38;5;132;01m{\u001b[39;00mname[\u001b[38;5;241m1\u001b[39m]\u001b[38;5;132;01m}\u001b[39;00m\u001b[38;5;132;01m{\u001b[39;00mi\u001b[38;5;132;01m}\u001b[39;00m\u001b[38;5;124m_\u001b[39m\u001b[38;5;132;01m{\u001b[39;00mloadtype[\u001b[38;5;241m1\u001b[39m]\u001b[38;5;132;01m}\u001b[39;00m\u001b[38;5;124m.npy\u001b[39m\u001b[38;5;124m\"\u001b[39m) \u001b[38;5;28;01mfor\u001b[39;00m i \u001b[38;5;129;01min\u001b[39;00m \u001b[38;5;28mrange\u001b[39m(N)]\n\u001b[1;32m     13\u001b[0m MAT2     \u001b[38;5;241m=\u001b[39m [np\u001b[38;5;241m.\u001b[39mload(\u001b[38;5;124mf\u001b[39m\u001b[38;5;124m\"\u001b[39m\u001b[38;5;124mmat2/\u001b[39m\u001b[38;5;132;01m{\u001b[39;00mname[\u001b[38;5;241m2\u001b[39m]\u001b[38;5;132;01m}\u001b[39;00m\u001b[38;5;132;01m{\u001b[39;00mi\u001b[38;5;132;01m}\u001b[39;00m\u001b[38;5;124m_\u001b[39m\u001b[38;5;132;01m{\u001b[39;00mloadtype[\u001b[38;5;241m2\u001b[39m]\u001b[38;5;132;01m}\u001b[39;00m\u001b[38;5;124m.npy\u001b[39m\u001b[38;5;124m\"\u001b[39m) \u001b[38;5;28;01mfor\u001b[39;00m i \u001b[38;5;129;01min\u001b[39;00m \u001b[38;5;28mrange\u001b[39m(N)]\n",
      "File \u001b[0;32m~/.envs/base/lib64/python3.11/site-packages/numpy/lib/npyio.py:427\u001b[0m, in \u001b[0;36mload\u001b[0;34m(file, mmap_mode, allow_pickle, fix_imports, encoding, max_header_size)\u001b[0m\n\u001b[1;32m    425\u001b[0m     own_fid \u001b[38;5;241m=\u001b[39m \u001b[38;5;28;01mFalse\u001b[39;00m\n\u001b[1;32m    426\u001b[0m \u001b[38;5;28;01melse\u001b[39;00m:\n\u001b[0;32m--> 427\u001b[0m     fid \u001b[38;5;241m=\u001b[39m stack\u001b[38;5;241m.\u001b[39menter_context(\u001b[38;5;28;43mopen\u001b[39;49m\u001b[43m(\u001b[49m\u001b[43mos_fspath\u001b[49m\u001b[43m(\u001b[49m\u001b[43mfile\u001b[49m\u001b[43m)\u001b[49m\u001b[43m,\u001b[49m\u001b[43m \u001b[49m\u001b[38;5;124;43m\"\u001b[39;49m\u001b[38;5;124;43mrb\u001b[39;49m\u001b[38;5;124;43m\"\u001b[39;49m\u001b[43m)\u001b[49m)\n\u001b[1;32m    428\u001b[0m     own_fid \u001b[38;5;241m=\u001b[39m \u001b[38;5;28;01mTrue\u001b[39;00m\n\u001b[1;32m    430\u001b[0m \u001b[38;5;66;03m# Code to distinguish from NumPy binary files and pickles.\u001b[39;00m\n",
      "\u001b[0;31mFileNotFoundError\u001b[0m: [Errno 2] No such file or directory: 'overall/crypt0_test0_overall.npy'"
     ]
    }
   ],
   "source": [
    "\n",
    "# row_stats_mat1 = df.agg(['min', 'max', 'median'], axis=1)\n",
    "# row_medians = df.median(axis=1)\n",
    "\n",
    "# plt.plot(row_stats['median'])\n",
    "# plt.plot(row_stats['min'])\n",
    "# plt.plot(row_stats['max'])\n",
    "N = 6\n",
    "CryptNum = 0\n",
    "name = [f\"crypt{CryptNum}_test\", f\"crypt{CryptNum}_test\", f\"crypt{CryptNum}_test\", f\"crypt{CryptNum}_test\"]\n",
    "loadtype = [\"overall\", \"mat1\", \"mat2\", \"mat3\"]\n",
    "OVERALL  = [np.load(f\"overall/{name[0]}{i}_{loadtype[0]}.npy\") for i in range(N)]\n",
    "MAT1     = [np.load(f\"mat1/{name[1]}{i}_{loadtype[1]}.npy\") for i in range(N)]\n",
    "MAT2     = [np.load(f\"mat2/{name[2]}{i}_{loadtype[2]}.npy\") for i in range(N)]\n",
    "MAT3     = [np.load(f\"mat3/{name[3]}{i}_{loadtype[3]}.npy\") for i in range(N)]\n",
    "MAT1[0][0] = 1.85867921e-04\n",
    "\n",
    "combined = [OVERALL, MAT1, MAT2, MAT3]\n",
    "i = 0\n",
    "for plot in combined:\n",
    "    plot_lines(plot, savefig_name = f\"crypt{CryptNum}_{loadtype[i]}.pdf\")\n",
    "    i+=1\n",
    "\n",
    "\n",
    "d_all  = {f'col{i}': array for i, array in enumerate(OVERALL)}\n",
    "d_mat1 = {f'col{i}': array for i, array in enumerate(MAT1)}\n",
    "d_mat2 = {f'col{i}': array for i, array in enumerate(MAT2)}\n",
    "d_mat3 = {f'col{i}': array for i, array in enumerate(MAT3)}\n",
    "\n",
    "df_all = pd.DataFrame(data=d_all)\n",
    "df_mat1 = pd.DataFrame(data=d_mat1)\n",
    "df_mat2 = pd.DataFrame(data=d_mat2)\n",
    "df_mat3 = pd.DataFrame(data=d_mat3)\n",
    "df_mat3['col2'][0] = 0.000612\n",
    "#df_mat3['col4'][0] = 0.002508\n",
    "allstat = [np.mean(df_all, axis=1), np.mean(df_all, axis=1) - np.std(df_all, axis=1), np.mean(df_all, axis=1) + np.std(df_all, axis=1)]\n",
    "mat1stat = [np.mean(df_mat1, axis=1), np.mean(df_mat1, axis=1) - np.std(df_mat1, axis=1), np.mean(df_mat1, axis=1) + np.std(df_mat1, axis=1)]\n",
    "mat2stat = [np.mean(df_mat2, axis=1), np.mean(df_mat2, axis=1) - np.std(df_mat2, axis=1), np.mean(df_mat2, axis=1) + np.std(df_mat2, axis=1)]\n",
    "mat3stat = [np.mean(df_mat3, axis=1), np.mean(df_mat3, axis=1) - np.std(df_mat3, axis=1), np.mean(df_mat3, axis=1) + np.std(df_mat3, axis=1)]\n",
    "\n",
    "\n",
    "# mat2stat = [np.median(df_mat2, axis=1), np.min(df_mat2, axis=1), np.max(df_mat2, axis=1)]\n",
    "# mat3stat = [np.median(df_mat3, axis=1), np.min(df_mat3, axis=1), np.max(df_mat3, axis=1)]\n",
    "\n",
    "# mat3stat[1][0] = 0.0035\n",
    "# mat1stat[1][0] = 0.00037\n",
    "\n",
    "# mat1_medians = np.median(df, axis=1)\n",
    "# mat1_mins = np.min(df, axis=1)\n",
    "# mat2_maxs = np.max(df, axis=1)\n",
    "\n",
    "\n",
    "plt.figure(figsize=(8, 6))\n",
    "plt.plot(range(len(allstat[0])), allstat[0],'--' ,color='black', label=\"Domain Average\")\n",
    "plt.fill_between(range(len(allstat[1])), allstat[1], allstat[2], color='black', alpha=0.1)\n",
    "\n",
    "sns.lineplot(x=range(len(mat1stat[0])), y=mat1stat[0], color='red', label = \"Lumen\")\n",
    "plt.fill_between(range(len(mat1stat[1])), mat1stat[1], mat1stat[2], color='red', alpha=0.1)\n",
    "\n",
    "\n",
    "sns.lineplot(x=range(len(mat2stat[0])), y=mat2stat[0], color='blue', label = \"Epithelial Cells\")\n",
    "plt.fill_between(range(len(mat2stat[1])), mat2stat[1], mat2stat[2], color='blue', alpha=0.1)\n",
    "\n",
    "sns.lineplot(x=range(len(mat3stat[0])), y=mat3stat[0], color='brown', label = \"ECM\")\n",
    "plt.fill_between(range(len(mat3stat[1])), mat3stat[1], mat3stat[2], color='brown', alpha=0.1)\n",
    "plt.ylim(-0.05,1.05)\n",
    "\n",
    "# plt.xlabel('Rows')\n",
    "# plt.ylabel('Values')\n",
    "\n",
    "plt.legend()\n",
    "plt.show()"
   ]
  },
  {
   "cell_type": "code",
   "execution_count": null,
   "id": "a22c93c7",
   "metadata": {},
   "outputs": [],
   "source": []
  },
  {
   "cell_type": "code",
   "execution_count": null,
   "id": "565205a3",
   "metadata": {},
   "outputs": [],
   "source": []
  }
 ],
 "metadata": {
  "kernelspec": {
   "display_name": "Python 3 (ipykernel)",
   "language": "python",
   "name": "python3"
  },
  "language_info": {
   "codemirror_mode": {
    "name": "ipython",
    "version": 3
   },
   "file_extension": ".py",
   "mimetype": "text/x-python",
   "name": "python",
   "nbconvert_exporter": "python",
   "pygments_lexer": "ipython3",
   "version": "3.11.6"
  }
 },
 "nbformat": 4,
 "nbformat_minor": 5
}
