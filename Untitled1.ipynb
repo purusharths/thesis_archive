{
 "cells": [
  {
   "cell_type": "code",
   "execution_count": 3,
   "id": "5a00d296",
   "metadata": {},
   "outputs": [
    {
     "data": {
      "image/png": "[encoded data removed]",
      "text/plain": [
       "<Figure size 1000x200 with 2 Axes>"
      ]
     },
     "metadata": {},
     "output_type": "display_data"
    }
   ],
   "source": [
    "import matplotlib.pyplot as plt\n",
    "from matplotlib import cm\n",
    "import numpy as np\n",
    "\n",
    "# Create a figure and axis\n",
    "fig, ax = plt.subplots(figsize=(10, 2))\n",
    "\n",
    "# Set the colormap to Turbo\n",
    "cmap = cm.get_cmap('turbo')\n",
    "\n",
    "# Create a ScalarMappable to map values to colors\n",
    "norm = plt.Normalize(0, 1)\n",
    "sm = plt.cm.ScalarMappable(cmap=cmap, norm=norm)\n",
    "sm.set_array([])\n",
    "\n",
    "# Create a horizontal color bar\n",
    "cbar = plt.colorbar(sm, orientation='horizontal', ax=ax)\n",
    "\n",
    "# Set the color bar ticks\n",
    "cbar.set_ticks([0, 0.25, 0.5, 0.75, 1])\n",
    "cbar.set_ticklabels(['0', '0.25', '0.5', '0.75', '1'])\n",
    "\n",
    "# Set color bar label\n",
    "cbar.set_label('Color Bar')\n",
    "\n",
    "# Hide the axes\n",
    "ax.axis('off')\n",
    "\n",
    "# Show the plot\n",
    "plt.tight_layout()\n",
    "plt.show()"
   ]
  },
  {
   "cell_type": "code",
   "execution_count": 12,
   "id": "75c0f66b",
   "metadata": {},
   "outputs": [
    {
     "name": "stderr",
     "output_type": "stream",
     "text": [
      "/tmp/ipykernel_585443/704279431.py:29: UserWarning: Tight layout not applied. The bottom and top margins cannot be made large enough to accommodate all axes decorations.\n",
      "  plt.tight_layout()\n"
     ]
    },
    {
     "data": {
      "image/png": "[encoded data removed]",
      "text/plain": [
       "<Figure size 1000x50 with 2 Axes>"
      ]
     },
     "metadata": {},
     "output_type": "display_data"
    }
   ],
   "source": [
    "import matplotlib.pyplot as plt\n",
    "from matplotlib import cm\n",
    "import numpy as np\n",
    "\n",
    "# Create a figure and axis with thin margins\n",
    "fig, ax = plt.subplots(figsize=(10, 0.5))  # Adjust the height in figsize\n",
    "fig.subplots_adjust(left=0.05, right=0.95, top=0.9, bottom=0.1)\n",
    "\n",
    "# Set the colormap to Turbo\n",
    "cmap = cm.get_cmap('turbo')\n",
    "\n",
    "# Create a ScalarMappable to map values to colors\n",
    "norm = plt.Normalize(0, 1)\n",
    "sm = plt.cm.ScalarMappable(cmap=cmap, norm=norm)\n",
    "sm.set_array([])\n",
    "\n",
    "# Create a longer horizontal color bar\n",
    "cbar = plt.colorbar(sm, orientation='horizontal', ax=ax, shrink=0.8)\n",
    "\n",
    "# Set the color bar ticks\n",
    "cbar.set_ticks([0, 0.25, 0.5, 0.75, 1])\n",
    "cbar.set_ticklabels(['0', '0.25', '0.5', '0.75', '1'])\n",
    "\n",
    "# Set color bar label\n",
    "# cbar.set_label('Color Bar')\n",
    "\n",
    "# Hide the axes\n",
    "ax.axis('off')\n",
    "plt.tight_layout()\n",
    "plt.savefig(\"colorbar-0_1.png\", dpi=500, bbox_inches='tight', pad_inches=0)\n",
    "# Show the plot\n",
    "plt.show()"
   ]
  },
  {
   "cell_type": "code",
   "execution_count": 13,
   "id": "3fa98eff",
   "metadata": {},
   "outputs": [
    {
     "data": {
      "image/png": "[encoded data removed]",
      "text/plain": [
       "<Figure size 1000x75 with 2 Axes>"
      ]
     },
     "metadata": {},
     "output_type": "display_data"
    }
   ],
   "source": [
    "import matplotlib.pyplot as plt\n",
    "from matplotlib import cm\n",
    "import numpy as np\n",
    "\n",
    "# Create a figure and axis with adjusted margins and size\n",
    "fig, ax = plt.subplots(figsize=(10, 0.75))\n",
    "fig.subplots_adjust(left=0.1, right=0.9, top=0.8, bottom=0.2)\n",
    "\n",
    "# Set the colormap to Turbo\n",
    "cmap = cm.get_cmap('turbo')\n",
    "\n",
    "# Create a ScalarMappable to map values to colors\n",
    "norm = plt.Normalize(0, 1)\n",
    "sm = plt.cm.ScalarMappable(cmap=cmap, norm=norm)\n",
    "sm.set_array([])\n",
    "\n",
    "# Create a longer horizontal color bar\n",
    "cbar = plt.colorbar(sm, orientation='horizontal', ax=ax, shrink=0.8)\n",
    "\n",
    "# Set the color bar ticks\n",
    "cbar.set_ticks([0, 0.25, 0.5, 0.75, 1])\n",
    "cbar.set_ticklabels(['0', '0.25', '0.5', '0.75', '1'])\n",
    "\n",
    "# Set color bar label\n",
    "cbar.set_label('Color Bar')\n",
    "\n",
    "# Hide the axes\n",
    "ax.axis('off')\n",
    "\n",
    "# Show the plot\n",
    "plt.show()"
   ]
  },
  {
   "cell_type": "code",
   "execution_count": 2,
   "id": "99bbbd77-d591-4077-9671-26b46bb3cb25",
   "metadata": {},
   "outputs": [],
   "source": [
    "\n",
    "plt.rc('text', usetex=True)\n",
    "plt.rc('font', family='serif', size=14)  # Adjust the size parameter as needed"
   ]
  },
  {
   "cell_type": "code",
   "execution_count": 10,
   "id": "b3e33d9f",
   "metadata": {},
   "outputs": [
    {
     "name": "stderr",
     "output_type": "stream",
     "text": [
      "/tmp/ipykernel_315154/2410852614.py:8: MatplotlibDeprecationWarning: The get_cmap function was deprecated in Matplotlib 3.7 and will be removed two minor releases later. Use ``matplotlib.colormaps[name]`` or ``matplotlib.colormaps.get_cmap(obj)`` instead.\n",
      "  cmap = plt.cm.get_cmap('turbo')\n",
      "/tmp/ipykernel_315154/2410852614.py:22: UserWarning: Tight layout not applied. The bottom and top margins cannot be made large enough to accommodate all axes decorations.\n",
      "  plt.tight_layout()\n"
     ]
    },
    {
     "data": {
      "image/png": "[encoded data removed]",
      "text/plain": [
       "<Figure size 600x30 with 1 Axes>"
      ]
     },
     "metadata": {},
     "output_type": "display_data"
    }
   ],
   "source": [
    "import matplotlib.pyplot as plt\n",
    "import numpy as np\n",
    "\n",
    "# Create a figure and axis\n",
    "fig, ax = plt.subplots(figsize=(6, 0.3))  # Adjust the height for a thinner colorbar\n",
    "\n",
    "# Create a colormap and normalize it to the range [0, 1]\n",
    "cmap = plt.cm.get_cmap('turbo')\n",
    "norm = plt.Normalize(0, 1)\n",
    "\n",
    "# Plot the colorbar\n",
    "cb = plt.colorbar(plt.cm.ScalarMappable(cmap=cmap, norm=norm), cax=ax, orientation='horizontal')\n",
    "\n",
    "# Set colorbar labels and ticks\n",
    "# cb.set_label('Values between 0 and 1')\n",
    "\n",
    "# Set custom ticks\n",
    "custom_ticks = [0.2, 0.4, 0.6, 0.8, 1.0]\n",
    "cb.set_ticks(custom_ticks)\n",
    "cb.set_ticklabels(custom_ticks)\n",
    "\n",
    "plt.tight_layout()\n",
    "plt.savefig(\"colorbar_small.pdf\", bbox_inches=\"tight\")\n",
    "# Show the plot\n",
    "plt.show()\n"
   ]
  },
  {
   "cell_type": "code",
   "execution_count": 11,
   "id": "c23e805d-472b-4412-8f3c-1753539a7e38",
   "metadata": {},
   "outputs": [
    {
     "name": "stderr",
     "output_type": "stream",
     "text": [
      "/tmp/ipykernel_315154/4104849383.py:8: MatplotlibDeprecationWarning: The get_cmap function was deprecated in Matplotlib 3.7 and will be removed two minor releases later. Use ``matplotlib.colormaps[name]`` or ``matplotlib.colormaps.get_cmap(obj)`` instead.\n",
      "  cmap = plt.cm.get_cmap('turbo')\n",
      "/tmp/ipykernel_315154/4104849383.py:23: UserWarning: Tight layout not applied. The bottom and top margins cannot be made large enough to accommodate all axes decorations.\n",
      "  plt.tight_layout()\n"
     ]
    },
    {
     "data": {
      "image/png": "[encoded data removed]",
      "text/plain": [
       "<Figure size 800x30 with 1 Axes>"
      ]
     },
     "metadata": {},
     "output_type": "display_data"
    }
   ],
   "source": [
    "import matplotlib.pyplot as plt\n",
    "import numpy as np\n",
    "\n",
    "# Create a figure and axis\n",
    "fig, ax = plt.subplots(figsize=(8, 0.3))  # Adjust the width for a longer colorbar\n",
    "\n",
    "# Create a colormap and normalize it to the range [0, 1]\n",
    "cmap = plt.cm.get_cmap('turbo')\n",
    "norm = plt.Normalize(0, 1)\n",
    "\n",
    "# Plot the colorbar\n",
    "cb = plt.colorbar(plt.cm.ScalarMappable(cmap=cmap, norm=norm), cax=ax, orientation='horizontal')\n",
    "\n",
    "# Set colorbar labels and ticks\n",
    "# cb.set_label('Values between 0 and 1')\n",
    "\n",
    "# Set custom ticks\n",
    "custom_ticks = [0.2, 0.4, 0.6, 0.8, 1.0]\n",
    "cb.set_ticks(custom_ticks)\n",
    "cb.set_ticklabels(custom_ticks)\n",
    "\n",
    "\n",
    "plt.tight_layout()\n",
    "plt.savefig(\"colorbar_big.pdf\", bbox_inches=\"tight\")\n",
    "# Show the plot\n",
    "plt.show()"
   ]
  },
  {
   "cell_type": "code",
   "execution_count": 1,
   "id": "21c2c410-880c-4d1f-8547-3f170b8412d5",
   "metadata": {},
   "outputs": [
    {
     "name": "stderr",
     "output_type": "stream",
     "text": [
      "/tmp/ipykernel_334640/592226928.py:8: MatplotlibDeprecationWarning: The get_cmap function was deprecated in Matplotlib 3.7 and will be removed two minor releases later. Use ``matplotlib.colormaps[name]`` or ``matplotlib.colormaps.get_cmap(obj)`` instead.\n",
      "  cmap = plt.cm.get_cmap('turbo')\n",
      "/tmp/ipykernel_334640/592226928.py:22: UserWarning: Tight layout not applied. The bottom and top margins cannot be made large enough to accommodate all axes decorations.\n",
      "  plt.tight_layout()\n"
     ]
    },
    {
     "data": {
      "image/png": "[encoded data removed]",
      "text/plain": [
       "<Figure size 600x30 with 1 Axes>"
      ]
     },
     "metadata": {},
     "output_type": "display_data"
    }
   ],
   "source": [
    "import matplotlib.pyplot as plt\n",
    "import numpy as np\n",
    "\n",
    "# Create a figure and axis\n",
    "fig, ax = plt.subplots(figsize=(6, 0.3))  # Adjust the height for a thinner colorbar\n",
    "\n",
    "# Create a colormap and normalize it to the range [0.9, 1]\n",
    "cmap = plt.cm.get_cmap('turbo')\n",
    "norm = plt.Normalize(0.9, 1)\n",
    "\n",
    "# Plot the colorbar\n",
    "cb = plt.colorbar(plt.cm.ScalarMappable(cmap=cmap, norm=norm), cax=ax, orientation='horizontal')\n",
    "\n",
    "# Set colorbar labels and ticks\n",
    "# cb.set_label('Values between 0.9 and 1')\n",
    "\n",
    "# Set custom ticks\n",
    "custom_ticks = [0.9, 0.92, 0.94, 0.96, 0.98, 1.0]\n",
    "cb.set_ticks(custom_ticks)\n",
    "cb.set_ticklabels(custom_ticks)\n",
    "\n",
    "plt.tight_layout()\n",
    "plt.savefig(\"colorbar_small_09-1.pdf\", bbox_inches=\"tight\")\n",
    "# Show the plot\n",
    "plt.show()"
   ]
  },
  {
   "cell_type": "code",
   "execution_count": null,
   "id": "d3b09f80-024e-4872-98c5-2ede78d14037",
   "metadata": {},
   "outputs": [],
   "source": []
  }
 ],
 "metadata": {
  "kernelspec": {
   "display_name": "Python 3 (ipykernel)",
   "language": "python",
   "name": "python3"
  },
  "language_info": {
   "codemirror_mode": {
    "name": "ipython",
    "version": 3
   },
   "file_extension": ".py",
   "mimetype": "text/x-python",
   "name": "python",
   "nbconvert_exporter": "python",
   "pygments_lexer": "ipython3",
   "version": "3.11.6"
  }
 },
 "nbformat": 4,
 "nbformat_minor": 5
}
